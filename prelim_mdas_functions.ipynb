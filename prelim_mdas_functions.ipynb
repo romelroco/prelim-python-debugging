{
  "cells": [
    {
      "cell_type": "markdown",
      "metadata": {
        "id": "NFHuL7gNNzmk"
      },
      "source": [
        "debug the script, final result must be whatever the value you put in var1 after all the calculations. Follow MDAS.\n",
        "\n",
        "\n",
        "\n"
      ]
    },
    {
      "cell_type": "code",
      "execution_count": 5,
      "metadata": {
        "colab": {
          "base_uri": "https://localhost:8080/"
        },
        "id": "pUVTWeJeM63P",
        "outputId": "3bf764fe-8414-44aa-d721-68b3e10d5c92"
      },
      "outputs": [
        {
          "name": "stdout",
          "output_type": "stream",
          "text": [
            "your answer: 2\n"
          ]
        }
      ],
      "source": [
        "var1 = int(input(\"your answer: \"))\n",
        "var2 = 7 # default value; don't change!"
      ]
    },
    {
      "cell_type": "code",
      "execution_count": 7,
      "metadata": {
        "id": "ePVKH5yiNLmd"
      },
      "outputs": [],
      "source": [
        "def fprod(num1, num2):\n",
        "  result = num1 * num2\n",
        "  return result\n",
        "\n",
        "def fqou(num1, num2):\n",
        "  result = num1 / num2\n",
        "  return result\n",
        "\n",
        "def fsum(num1, num2):\n",
        "  result = num1 + num2\n",
        "  return result\n",
        "\n",
        "def fsub(num1, num2):\n",
        "  result = num1 - num2\n",
        "  return result"
      ]
    },
    {
      "cell_type": "code",
      "execution_count": 11,
      "metadata": {
        "id": "ILJVEXJeNi5p"
      },
      "outputs": [],
      "source": [
        "def calculate_final_value(fnum1, fnum2):\n",
        "  result_prod = fprod(fnum1,fnum2)\n",
        "  result_qou = fqou(result_prod, fnum2)\n",
        "  result_sum = fsum(result_qou, fnum1)\n",
        "  result_sub = fsub(result_sum, fnum1)\n",
        "  final_result = result_sub\n",
        "\n",
        "  result = final_result\n",
        "  return result"
      ]
    },
    {
      "cell_type": "code",
      "execution_count": null,
      "metadata": {
        "id": "K2t7gsUoPiCl"
      },
      "outputs": [],
      "source": [
        "## Don't do any updates here, once we run this cell, result must be the value of var 1.\n",
        "print(calculate_final_value(var1,var2))"
      ]
    }
  ],
  "metadata": {
    "colab": {
      "provenance": []
    },
    "kernelspec": {
      "display_name": "Python 3",
      "name": "python3"
    },
    "language_info": {
      "name": "python"
    }
  },
  "nbformat": 4,
  "nbformat_minor": 0
}
