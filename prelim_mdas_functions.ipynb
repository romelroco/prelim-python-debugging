{
  "nbformat": 4,
  "nbformat_minor": 0,
  "metadata": {
    "colab": {
      "provenance": []
    },
    "kernelspec": {
      "name": "python3",
      "display_name": "Python 3"
    },
    "language_info": {
      "name": "python"
    }
  },
  "cells": [
    {
      "cell_type": "markdown",
      "source": [
        "debug the script, final result must be whatever the value you put in var1 after all the calculations. Follow MDAS.\n",
        "\n",
        "\n",
        "\n"
      ],
      "metadata": {
        "id": "NFHuL7gNNzmk"
      }
    },
    {
      "cell_type": "code",
      "execution_count": 12,
      "metadata": {
        "id": "pUVTWeJeM63P",
        "colab": {
          "base_uri": "https://localhost:8080/"
        },
        "outputId": "c85fd806-96ed-4fe7-a6cc-1dc59d4d549c"
      },
      "outputs": [
        {
          "name": "stdout",
          "output_type": "stream",
          "text": [
            "your answer: 777\n"
          ]
        }
      ],
      "source": [
        "var1 = int(input(\"your answer: \"))\n",
        "var2 = 7 # default value; don't change!"
      ]
    },
    {
      "cell_type": "code",
      "source": [
        "def fprod(num1, num2):\n",
        "  result = num1 * num2\n",
        "  return result\n",
        "\n",
        "def fqou(num1, num2):\n",
        "  result = num1 / num2\n",
        "  return result\n",
        "\n",
        "def fsum(num1, num2):\n",
        "  result = num1 + num2\n",
        "  return result\n",
        "\n",
        "def fsub(num1, num2):\n",
        "  result = num1 - num2\n",
        "  return result"
      ],
      "metadata": {
        "id": "ePVKH5yiNLmd"
      },
      "execution_count": 13,
      "outputs": []
    },
    {
      "cell_type": "code",
      "source": [
        "def calculate_final_value(fnum1, fnum2):\n",
        "  result_prod = fprod(fnum1, fnum2)\n",
        "  result_qou = fqou(result_prod, fnum2)\n",
        "  result_sum = fsum(result_qou, fnum1)\n",
        "  result_sub = fsub(result_sum, fnum1)\n",
        "  final_result = result_sub\n",
        "\n",
        "  result = final_result\n",
        "  return result"
      ],
      "metadata": {
        "id": "ILJVEXJeNi5p"
      },
      "execution_count": 14,
      "outputs": []
    },
    {
      "cell_type": "code",
      "source": [
        "## Don't do any updates here, once we run this cell, result must be the value of var 1.\n",
        "print(calculate_final_value(var1,var2))"
      ],
      "metadata": {
        "id": "K2t7gsUoPiCl",
        "colab": {
          "base_uri": "https://localhost:8080/"
        },
        "outputId": "0405570a-290b-47a3-94fd-446b2d5cabaf"
      },
      "execution_count": 15,
      "outputs": [
        {
          "output_type": "stream",
          "name": "stdout",
          "text": [
            "777.0\n"
          ]
        }
      ]
    }
  ]
}