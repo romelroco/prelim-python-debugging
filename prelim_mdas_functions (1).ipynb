{
  "nbformat": 4,
  "nbformat_minor": 0,
  "metadata": {
    "colab": {
      "provenance": []
    },
    "kernelspec": {
      "name": "python3",
      "display_name": "Python 3"
    },
    "language_info": {
      "name": "python"
    }
  },
  "cells": [
    {
      "cell_type": "markdown",
      "source": [
        "debug the script, final result must be whatever the value you put in var1 after all the calculations. Follow MDAS.\n",
        "\n",
        "\n",
        "\n"
      ],
      "metadata": {
        "id": "NFHuL7gNNzmk"
      }
    },
    {
      "cell_type": "code",
      "execution_count": 25,
      "metadata": {
        "colab": {
          "base_uri": "https://localhost:8080/"
        },
        "id": "pUVTWeJeM63P",
        "outputId": "2a4234fe-d852-4759-b3fe-bfa24272a5e2"
      },
      "outputs": [
        {
          "name": "stdout",
          "output_type": "stream",
          "text": [
            "your answer: 2\n"
          ]
        }
      ],
      "source": [
        "var1 = int(input(\"your answer: \"))\n",
        "var2 = 7 # default value; don't change!"
      ]
    },
    {
      "cell_type": "code",
      "source": [
        "def fprod(num1, num2):\n",
        "  result = num1 * num2\n",
        "  return result\n",
        "\n",
        "def fqou(num1, num2):\n",
        "  result = num1 / num2\n",
        "  return result\n",
        "\n",
        "def fsum(num1, num2):\n",
        "  result = num1 + num2\n",
        "  return result\n",
        "\n",
        "def fsub(num1, num2):\n",
        "  result = num1 - num2\n",
        "  return result"
      ],
      "metadata": {
        "id": "ePVKH5yiNLmd"
      },
      "execution_count": 26,
      "outputs": []
    },
    {
      "cell_type": "code",
      "source": [
        "def calculate_final_value(fnum1, fnum2):\n",
        "  result_prod = fprod(fnum1, fnum2)\n",
        "  result_qou = fqou(result_prod, fnum2)\n",
        "  result_sum = fsum(result_qou, fnum1)\n",
        "  result_sub = fsub(result_sum, fnum1)\n",
        "  final_result = result_sub\n",
        "  result = final_result\n",
        "  return result"
      ],
      "metadata": {
        "id": "ILJVEXJeNi5p"
      },
      "execution_count": 27,
      "outputs": []
    },
    {
      "cell_type": "code",
      "source": [],
      "metadata": {
        "id": "aSb_AEC0SDDm"
      },
      "execution_count": null,
      "outputs": []
    },
    {
      "cell_type": "code",
      "source": [],
      "metadata": {
        "id": "0PKV6GjnM5vb"
      },
      "execution_count": null,
      "outputs": []
    },
    {
      "cell_type": "code",
      "source": [
        "## Don't do any updates here, once we run this cell, result must be the value of var 1.\n",
        "print(calculate_final_value(var1,var2))"
      ],
      "metadata": {
        "id": "K2t7gsUoPiCl",
        "colab": {
          "base_uri": "https://localhost:8080/"
        },
        "outputId": "d9654021-00de-41f8-8dc3-2bd32a5364ba"
      },
      "execution_count": 28,
      "outputs": [
        {
          "output_type": "stream",
          "name": "stdout",
          "text": [
            "2.0\n"
          ]
        }
      ]
    }
  ]
}